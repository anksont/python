{
 "cells": [
  {
   "cell_type": "code",
   "execution_count": 1,
   "metadata": {},
   "outputs": [],
   "source": [
    "import pandas as pd"
   ]
  },
  {
   "cell_type": "code",
   "execution_count": 2,
   "metadata": {},
   "outputs": [],
   "source": [
    "import os"
   ]
  },
  {
   "cell_type": "code",
   "execution_count": 3,
   "metadata": {},
   "outputs": [
    {
     "data": {
      "text/plain": [
       "'C:\\\\Users\\\\ankit\\\\Desktop\\\\DATA SCIENCE\\\\rakesh data files\\\\CGWB'"
      ]
     },
     "execution_count": 3,
     "metadata": {},
     "output_type": "execute_result"
    }
   ],
   "source": [
    "os.getcwd()"
   ]
  },
  {
   "cell_type": "code",
   "execution_count": 50,
   "metadata": {},
   "outputs": [],
   "source": [
    "df=pd.read_excel(\"C:\\\\Users\\\\ankit\\\\Desktop\\\\DATA SCIENCE\\\\rakesh data files\\\\CGWB\\\\CGWB_GWYB_2018-19.xlsx\",index_col=None)"
   ]
  },
  {
   "cell_type": "code",
   "execution_count": 51,
   "metadata": {},
   "outputs": [
    {
     "data": {
      "text/html": [
       "<div>\n",
       "<style scoped>\n",
       "    .dataframe tbody tr th:only-of-type {\n",
       "        vertical-align: middle;\n",
       "    }\n",
       "\n",
       "    .dataframe tbody tr th {\n",
       "        vertical-align: top;\n",
       "    }\n",
       "\n",
       "    .dataframe thead th {\n",
       "        text-align: right;\n",
       "    }\n",
       "</style>\n",
       "<table border=\"1\" class=\"dataframe\">\n",
       "  <thead>\n",
       "    <tr style=\"text-align: right;\">\n",
       "      <th></th>\n",
       "      <th>DISTRICTS</th>\n",
       "      <th>S.W.M Normal</th>\n",
       "      <th>S.W.M Actual</th>\n",
       "      <th>S.W.M Dep</th>\n",
       "      <th>N.E.M. Normal</th>\n",
       "      <th>N.E.M. Actual</th>\n",
       "      <th>N.E.M. Dep</th>\n",
       "      <th>P.M. Normal</th>\n",
       "      <th>P.M. Actual</th>\n",
       "      <th>P.M. Dep</th>\n",
       "      <th>Annual Normal</th>\n",
       "      <th>Annual Actual</th>\n",
       "      <th>Annual Dep</th>\n",
       "    </tr>\n",
       "  </thead>\n",
       "  <tbody>\n",
       "    <tr>\n",
       "      <th>0</th>\n",
       "      <td>BALLARI</td>\n",
       "      <td>352</td>\n",
       "      <td>215</td>\n",
       "      <td>-39</td>\n",
       "      <td>150</td>\n",
       "      <td>72</td>\n",
       "      <td>-52</td>\n",
       "      <td>95</td>\n",
       "      <td>155</td>\n",
       "      <td>63</td>\n",
       "      <td>597</td>\n",
       "      <td>442</td>\n",
       "      <td>-26</td>\n",
       "    </tr>\n",
       "    <tr>\n",
       "      <th>1</th>\n",
       "      <td>KOPPALA</td>\n",
       "      <td>376</td>\n",
       "      <td>223</td>\n",
       "      <td>-41</td>\n",
       "      <td>142</td>\n",
       "      <td>55</td>\n",
       "      <td>-61</td>\n",
       "      <td>82</td>\n",
       "      <td>120</td>\n",
       "      <td>46</td>\n",
       "      <td>600</td>\n",
       "      <td>398</td>\n",
       "      <td>-34</td>\n",
       "    </tr>\n",
       "    <tr>\n",
       "      <th>2</th>\n",
       "      <td>RAICHUR</td>\n",
       "      <td>450</td>\n",
       "      <td>200</td>\n",
       "      <td>-55</td>\n",
       "      <td>143</td>\n",
       "      <td>54</td>\n",
       "      <td>-63</td>\n",
       "      <td>67</td>\n",
       "      <td>38</td>\n",
       "      <td>-43</td>\n",
       "      <td>660</td>\n",
       "      <td>292</td>\n",
       "      <td>-56</td>\n",
       "    </tr>\n",
       "    <tr>\n",
       "      <th>3</th>\n",
       "      <td>KALABURAGI</td>\n",
       "      <td>614</td>\n",
       "      <td>361</td>\n",
       "      <td>-41</td>\n",
       "      <td>127</td>\n",
       "      <td>52</td>\n",
       "      <td>-59</td>\n",
       "      <td>71</td>\n",
       "      <td>82</td>\n",
       "      <td>15</td>\n",
       "      <td>812</td>\n",
       "      <td>495</td>\n",
       "      <td>-39</td>\n",
       "    </tr>\n",
       "    <tr>\n",
       "      <th>4</th>\n",
       "      <td>YADGIR</td>\n",
       "      <td>592</td>\n",
       "      <td>300</td>\n",
       "      <td>-49</td>\n",
       "      <td>150</td>\n",
       "      <td>29</td>\n",
       "      <td>-81</td>\n",
       "      <td>69</td>\n",
       "      <td>59</td>\n",
       "      <td>-14</td>\n",
       "      <td>811</td>\n",
       "      <td>388</td>\n",
       "      <td>-52</td>\n",
       "    </tr>\n",
       "    <tr>\n",
       "      <th>5</th>\n",
       "      <td>BIDAR</td>\n",
       "      <td>684</td>\n",
       "      <td>405</td>\n",
       "      <td>-41</td>\n",
       "      <td>116</td>\n",
       "      <td>23</td>\n",
       "      <td>-80</td>\n",
       "      <td>74</td>\n",
       "      <td>67</td>\n",
       "      <td>-9</td>\n",
       "      <td>874</td>\n",
       "      <td>495</td>\n",
       "      <td>-43</td>\n",
       "    </tr>\n",
       "    <tr>\n",
       "      <th>6</th>\n",
       "      <td>STATE AVG. RAINFALL</td>\n",
       "      <td>839</td>\n",
       "      <td>804</td>\n",
       "      <td>-4</td>\n",
       "      <td>188</td>\n",
       "      <td>96</td>\n",
       "      <td>-49</td>\n",
       "      <td>128</td>\n",
       "      <td>195</td>\n",
       "      <td>52</td>\n",
       "      <td>1155</td>\n",
       "      <td>1095</td>\n",
       "      <td>-5</td>\n",
       "    </tr>\n",
       "  </tbody>\n",
       "</table>\n",
       "</div>"
      ],
      "text/plain": [
       "             DISTRICTS  S.W.M Normal  S.W.M Actual  S.W.M Dep  N.E.M. Normal  \\\n",
       "0              BALLARI           352           215        -39            150   \n",
       "1              KOPPALA           376           223        -41            142   \n",
       "2              RAICHUR           450           200        -55            143   \n",
       "3           KALABURAGI           614           361        -41            127   \n",
       "4               YADGIR           592           300        -49            150   \n",
       "5                BIDAR           684           405        -41            116   \n",
       "6  STATE AVG. RAINFALL           839           804         -4            188   \n",
       "\n",
       "   N.E.M. Actual  N.E.M. Dep  P.M. Normal  P.M. Actual  P.M. Dep  \\\n",
       "0             72         -52           95          155        63   \n",
       "1             55         -61           82          120        46   \n",
       "2             54         -63           67           38       -43   \n",
       "3             52         -59           71           82        15   \n",
       "4             29         -81           69           59       -14   \n",
       "5             23         -80           74           67        -9   \n",
       "6             96         -49          128          195        52   \n",
       "\n",
       "   Annual Normal  Annual Actual  Annual Dep  \n",
       "0            597            442         -26  \n",
       "1            600            398         -34  \n",
       "2            660            292         -56  \n",
       "3            812            495         -39  \n",
       "4            811            388         -52  \n",
       "5            874            495         -43  \n",
       "6           1155           1095          -5  "
      ]
     },
     "execution_count": 51,
     "metadata": {},
     "output_type": "execute_result"
    }
   ],
   "source": [
    "df"
   ]
  },
  {
   "cell_type": "code",
   "execution_count": 53,
   "metadata": {},
   "outputs": [],
   "source": [
    "df.set_index(\"DISTRICTS\",drop=True,inplace=True)"
   ]
  },
  {
   "cell_type": "code",
   "execution_count": 54,
   "metadata": {},
   "outputs": [
    {
     "data": {
      "text/html": [
       "<div>\n",
       "<style scoped>\n",
       "    .dataframe tbody tr th:only-of-type {\n",
       "        vertical-align: middle;\n",
       "    }\n",
       "\n",
       "    .dataframe tbody tr th {\n",
       "        vertical-align: top;\n",
       "    }\n",
       "\n",
       "    .dataframe thead th {\n",
       "        text-align: right;\n",
       "    }\n",
       "</style>\n",
       "<table border=\"1\" class=\"dataframe\">\n",
       "  <thead>\n",
       "    <tr style=\"text-align: right;\">\n",
       "      <th></th>\n",
       "      <th>S.W.M Normal</th>\n",
       "      <th>S.W.M Actual</th>\n",
       "      <th>S.W.M Dep</th>\n",
       "      <th>N.E.M. Normal</th>\n",
       "      <th>N.E.M. Actual</th>\n",
       "      <th>N.E.M. Dep</th>\n",
       "      <th>P.M. Normal</th>\n",
       "      <th>P.M. Actual</th>\n",
       "      <th>P.M. Dep</th>\n",
       "      <th>Annual Normal</th>\n",
       "      <th>Annual Actual</th>\n",
       "      <th>Annual Dep</th>\n",
       "    </tr>\n",
       "    <tr>\n",
       "      <th>DISTRICTS</th>\n",
       "      <th></th>\n",
       "      <th></th>\n",
       "      <th></th>\n",
       "      <th></th>\n",
       "      <th></th>\n",
       "      <th></th>\n",
       "      <th></th>\n",
       "      <th></th>\n",
       "      <th></th>\n",
       "      <th></th>\n",
       "      <th></th>\n",
       "      <th></th>\n",
       "    </tr>\n",
       "  </thead>\n",
       "  <tbody>\n",
       "    <tr>\n",
       "      <th>BALLARI</th>\n",
       "      <td>352</td>\n",
       "      <td>215</td>\n",
       "      <td>-39</td>\n",
       "      <td>150</td>\n",
       "      <td>72</td>\n",
       "      <td>-52</td>\n",
       "      <td>95</td>\n",
       "      <td>155</td>\n",
       "      <td>63</td>\n",
       "      <td>597</td>\n",
       "      <td>442</td>\n",
       "      <td>-26</td>\n",
       "    </tr>\n",
       "    <tr>\n",
       "      <th>KOPPALA</th>\n",
       "      <td>376</td>\n",
       "      <td>223</td>\n",
       "      <td>-41</td>\n",
       "      <td>142</td>\n",
       "      <td>55</td>\n",
       "      <td>-61</td>\n",
       "      <td>82</td>\n",
       "      <td>120</td>\n",
       "      <td>46</td>\n",
       "      <td>600</td>\n",
       "      <td>398</td>\n",
       "      <td>-34</td>\n",
       "    </tr>\n",
       "    <tr>\n",
       "      <th>RAICHUR</th>\n",
       "      <td>450</td>\n",
       "      <td>200</td>\n",
       "      <td>-55</td>\n",
       "      <td>143</td>\n",
       "      <td>54</td>\n",
       "      <td>-63</td>\n",
       "      <td>67</td>\n",
       "      <td>38</td>\n",
       "      <td>-43</td>\n",
       "      <td>660</td>\n",
       "      <td>292</td>\n",
       "      <td>-56</td>\n",
       "    </tr>\n",
       "    <tr>\n",
       "      <th>KALABURAGI</th>\n",
       "      <td>614</td>\n",
       "      <td>361</td>\n",
       "      <td>-41</td>\n",
       "      <td>127</td>\n",
       "      <td>52</td>\n",
       "      <td>-59</td>\n",
       "      <td>71</td>\n",
       "      <td>82</td>\n",
       "      <td>15</td>\n",
       "      <td>812</td>\n",
       "      <td>495</td>\n",
       "      <td>-39</td>\n",
       "    </tr>\n",
       "    <tr>\n",
       "      <th>YADGIR</th>\n",
       "      <td>592</td>\n",
       "      <td>300</td>\n",
       "      <td>-49</td>\n",
       "      <td>150</td>\n",
       "      <td>29</td>\n",
       "      <td>-81</td>\n",
       "      <td>69</td>\n",
       "      <td>59</td>\n",
       "      <td>-14</td>\n",
       "      <td>811</td>\n",
       "      <td>388</td>\n",
       "      <td>-52</td>\n",
       "    </tr>\n",
       "    <tr>\n",
       "      <th>BIDAR</th>\n",
       "      <td>684</td>\n",
       "      <td>405</td>\n",
       "      <td>-41</td>\n",
       "      <td>116</td>\n",
       "      <td>23</td>\n",
       "      <td>-80</td>\n",
       "      <td>74</td>\n",
       "      <td>67</td>\n",
       "      <td>-9</td>\n",
       "      <td>874</td>\n",
       "      <td>495</td>\n",
       "      <td>-43</td>\n",
       "    </tr>\n",
       "    <tr>\n",
       "      <th>STATE AVG. RAINFALL</th>\n",
       "      <td>839</td>\n",
       "      <td>804</td>\n",
       "      <td>-4</td>\n",
       "      <td>188</td>\n",
       "      <td>96</td>\n",
       "      <td>-49</td>\n",
       "      <td>128</td>\n",
       "      <td>195</td>\n",
       "      <td>52</td>\n",
       "      <td>1155</td>\n",
       "      <td>1095</td>\n",
       "      <td>-5</td>\n",
       "    </tr>\n",
       "  </tbody>\n",
       "</table>\n",
       "</div>"
      ],
      "text/plain": [
       "                     S.W.M Normal  S.W.M Actual  S.W.M Dep  N.E.M. Normal  \\\n",
       "DISTRICTS                                                                   \n",
       "BALLARI                       352           215        -39            150   \n",
       "KOPPALA                       376           223        -41            142   \n",
       "RAICHUR                       450           200        -55            143   \n",
       "KALABURAGI                    614           361        -41            127   \n",
       "YADGIR                        592           300        -49            150   \n",
       "BIDAR                         684           405        -41            116   \n",
       "STATE AVG. RAINFALL           839           804         -4            188   \n",
       "\n",
       "                     N.E.M. Actual  N.E.M. Dep  P.M. Normal  P.M. Actual  \\\n",
       "DISTRICTS                                                                  \n",
       "BALLARI                         72         -52           95          155   \n",
       "KOPPALA                         55         -61           82          120   \n",
       "RAICHUR                         54         -63           67           38   \n",
       "KALABURAGI                      52         -59           71           82   \n",
       "YADGIR                          29         -81           69           59   \n",
       "BIDAR                           23         -80           74           67   \n",
       "STATE AVG. RAINFALL             96         -49          128          195   \n",
       "\n",
       "                     P.M. Dep  Annual Normal  Annual Actual  Annual Dep  \n",
       "DISTRICTS                                                                \n",
       "BALLARI                    63            597            442         -26  \n",
       "KOPPALA                    46            600            398         -34  \n",
       "RAICHUR                   -43            660            292         -56  \n",
       "KALABURAGI                 15            812            495         -39  \n",
       "YADGIR                    -14            811            388         -52  \n",
       "BIDAR                      -9            874            495         -43  \n",
       "STATE AVG. RAINFALL        52           1155           1095          -5  "
      ]
     },
     "execution_count": 54,
     "metadata": {},
     "output_type": "execute_result"
    }
   ],
   "source": [
    "df"
   ]
  },
  {
   "cell_type": "code",
   "execution_count": 98,
   "metadata": {},
   "outputs": [],
   "source": [
    "import matplotlib.pyplot as plt\n",
    "%matplotlib inline\n",
    "import numpy as np\n"
   ]
  },
  {
   "cell_type": "code",
   "execution_count": 164,
   "metadata": {},
   "outputs": [
    {
     "data": {
      "image/png": "[encoded data removed]",
      "text/plain": [
       "<Figure size 864x720 with 12 Axes>"
      ]
     },
     "metadata": {
      "needs_background": "light"
     },
     "output_type": "display_data"
    }
   ],
   "source": [
    "\n",
    "axes=df.plot.bar(rot=90,subplots=True,layout=(4,3),figsize=(12,10),sharex=True)\n",
    "axes[0,2].set_ylabel(\"in percentage\")\n",
    "axes[1,2].set_ylabel(\"in percentage\")\n",
    "axes[2,2].set_ylabel(\"in percentage\")\n",
    "axes[3,2].set_ylabel(\"in percentage\")\n",
    "axes[0,1].set_ylabel(\"in mm \")\n",
    "axes[1,1].set_ylabel(\"in mm \")\n",
    "axes[2,1].set_ylabel(\"in mm \")\n",
    "axes[3,1].set_ylabel(\"in mm \")\n",
    "axes[0,0].set_ylabel(\"in mm \")\n",
    "axes[1,0].set_ylabel(\"in mm \")\n",
    "axes[2,0].set_ylabel(\"in mm \")\n",
    "axes[3,0].set_ylabel(\"in mm \")\n",
    "\n",
    "plt.tight_layout()\n",
    "plt.savefig(\"CGWB 2018-19 rainfall.pdf\")\n"
   ]
  },
  {
   "cell_type": "code",
   "execution_count": 112,
   "metadata": {},
   "outputs": [],
   "source": [
    "l = [[1, 2, 3], [3, 6, 9], [2, 4, 6]]  \n",
    "z=np.array(l)"
   ]
  },
  {
   "cell_type": "code",
   "execution_count": 128,
   "metadata": {},
   "outputs": [
    {
     "data": {
      "text/plain": [
       "numpy.ndarray"
      ]
     },
     "execution_count": 128,
     "metadata": {},
     "output_type": "execute_result"
    }
   ],
   "source": [
    "type(axes)"
   ]
  },
  {
   "cell_type": "code",
   "execution_count": 132,
   "metadata": {},
   "outputs": [
    {
     "data": {
      "text/plain": [
       "array([[3, 6, 9],\n",
       "       [2, 4, 6]])"
      ]
     },
     "execution_count": 132,
     "metadata": {},
     "output_type": "execute_result"
    }
   ],
   "source": [
    "z[:][1:3]"
   ]
  },
  {
   "cell_type": "code",
   "execution_count": 135,
   "metadata": {},
   "outputs": [],
   "source": [
    "x = np.array([4.5, 2.3, 6.7, 1.2, 1.8, 5.5]) "
   ]
  },
  {
   "cell_type": "code",
   "execution_count": 140,
   "metadata": {},
   "outputs": [
    {
     "data": {
      "text/plain": [
       "array([1.2, 1.8, 2.3, 4.5, 5.5, 6.7])"
      ]
     },
     "execution_count": 140,
     "metadata": {},
     "output_type": "execute_result"
    }
   ],
   "source": [
    "np.sort(x)"
   ]
  },
  {
   "cell_type": "code",
   "execution_count": 142,
   "metadata": {},
   "outputs": [
    {
     "ename": "NameError",
     "evalue": "name 'argsort' is not defined",
     "output_type": "error",
     "traceback": [
      "\u001b[1;31m---------------------------------------------------------------------------\u001b[0m",
      "\u001b[1;31mNameError\u001b[0m                                 Traceback (most recent call last)",
      "\u001b[1;32m<ipython-input-142-f2b895c0414d>\u001b[0m in \u001b[0;36m<module>\u001b[1;34m\u001b[0m\n\u001b[1;32m----> 1\u001b[1;33m \u001b[0ms\u001b[0m\u001b[1;33m=\u001b[0m\u001b[0margsort\u001b[0m\u001b[1;33m(\u001b[0m\u001b[0mx\u001b[0m\u001b[1;33m)\u001b[0m\u001b[1;33m\u001b[0m\u001b[1;33m\u001b[0m\u001b[0m\n\u001b[0m",
      "\u001b[1;31mNameError\u001b[0m: name 'argsort' is not defined"
     ]
    }
   ],
   "source": [
    "s=argsort(x)"
   ]
  },
  {
   "cell_type": "code",
   "execution_count": 146,
   "metadata": {},
   "outputs": [
    {
     "name": "stdout",
     "output_type": "stream",
     "text": [
      "[105 125 150 175 195]\n"
     ]
    }
   ],
   "source": [
    "arr=np.arange(100,200)\n",
    "select=[5,25,-50,75,95]\n",
    "print(arr[select])"
   ]
  },
  {
   "cell_type": "code",
   "execution_count": 148,
   "metadata": {},
   "outputs": [],
   "source": [
    "a = np.array([[1.0, 2.0], [4.0, 3.0]]) "
   ]
  },
  {
   "cell_type": "code",
   "execution_count": 152,
   "metadata": {},
   "outputs": [
    {
     "data": {
      "text/plain": [
       "array([[-0.6,  0.4],\n",
       "       [ 0.8, -0.2]])"
      ]
     },
     "execution_count": 152,
     "metadata": {},
     "output_type": "execute_result"
    }
   ],
   "source": [
    "np.linalg.inv(a)"
   ]
  },
  {
   "cell_type": "code",
   "execution_count": 153,
   "metadata": {},
   "outputs": [
    {
     "data": {
      "text/plain": [
       "array([[1., 4.],\n",
       "       [2., 3.]])"
      ]
     },
     "execution_count": 153,
     "metadata": {},
     "output_type": "execute_result"
    }
   ],
   "source": [
    "a.T"
   ]
  },
  {
   "cell_type": "code",
   "execution_count": 156,
   "metadata": {},
   "outputs": [],
   "source": [
    "a = np.array([[1, 2, 1, 3], [5, 3, 1, 8]], float) "
   ]
  },
  {
   "cell_type": "code",
   "execution_count": 157,
   "metadata": {},
   "outputs": [
    {
     "data": {
      "text/plain": [
       "array([[1.        , 0.72870505],\n",
       "       [0.72870505, 1.        ]])"
      ]
     },
     "execution_count": 157,
     "metadata": {},
     "output_type": "execute_result"
    }
   ],
   "source": [
    "np.corrcoef(a)"
   ]
  },
  {
   "cell_type": "code",
   "execution_count": 158,
   "metadata": {},
   "outputs": [
    {
     "data": {
      "text/plain": [
       "array([[0.91666667, 2.08333333],\n",
       "       [2.08333333, 8.91666667]])"
      ]
     },
     "execution_count": 158,
     "metadata": {},
     "output_type": "execute_result"
    }
   ],
   "source": [
    "np.cov(a)"
   ]
  },
  {
   "cell_type": "code",
   "execution_count": null,
   "metadata": {},
   "outputs": [],
   "source": []
  }
 ],
 "metadata": {
  "kernelspec": {
   "display_name": "Python 3",
   "language": "python",
   "name": "python3"
  },
  "language_info": {
   "codemirror_mode": {
    "name": "ipython",
    "version": 3
   },
   "file_extension": ".py",
   "mimetype": "text/x-python",
   "name": "python",
   "nbconvert_exporter": "python",
   "pygments_lexer": "ipython3",
   "version": "3.7.1"
  }
 },
 "nbformat": 4,
 "nbformat_minor": 2
}
