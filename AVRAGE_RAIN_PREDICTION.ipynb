{
 "cells": [
  {
   "cell_type": "code",
   "execution_count": 13,
   "metadata": {},
   "outputs": [],
   "source": [
    "import numpy as np\n",
    "import pandas as pd\n",
    "import seaborn as sns\n",
    "import matplotlib.pyplot as plt\n",
    "%matplotlib inline"
   ]
  },
  {
   "cell_type": "code",
   "execution_count": 14,
   "metadata": {},
   "outputs": [],
   "source": [
    "df=pd.read_csv(\"C:\\\\Users\\\\ankit\\\\Desktop\\\\DATA SCIENCE\\\\rakesh data files\\\\RAIN_PREDICTION.csv\")"
   ]
  },
  {
   "cell_type": "code",
   "execution_count": 15,
   "metadata": {},
   "outputs": [
    {
     "data": {
      "text/plain": [
       "Index(['Sl.\\nNo.', 'District', 'Sl.\\nNo..1', 'Taluk', 'Pre- Monsoon',\n",
       "       'South West Monsoon', 'North East Monsoon', 'Annual',\n",
       "       'No. of. Rainy days'],\n",
       "      dtype='object')"
      ]
     },
     "execution_count": 15,
     "metadata": {},
     "output_type": "execute_result"
    }
   ],
   "source": [
    "df.columns"
   ]
  },
  {
   "cell_type": "code",
   "execution_count": 16,
   "metadata": {},
   "outputs": [],
   "source": [
    "df.drop(['Sl.\\nNo..1'],axis=1,inplace=True)"
   ]
  },
  {
   "cell_type": "code",
   "execution_count": 17,
   "metadata": {},
   "outputs": [
    {
     "data": {
      "text/plain": [
       "Index(['Sl.\\nNo.', 'District', 'Taluk', 'Pre- Monsoon', 'South West Monsoon',\n",
       "       'North East Monsoon', 'Annual', 'No. of. Rainy days'],\n",
       "      dtype='object')"
      ]
     },
     "execution_count": 17,
     "metadata": {},
     "output_type": "execute_result"
    }
   ],
   "source": [
    "df.columns"
   ]
  },
  {
   "cell_type": "code",
   "execution_count": 18,
   "metadata": {},
   "outputs": [],
   "source": [
    "df.drop(['Sl.\\nNo.','District','Taluk'],axis=1,inplace=True)"
   ]
  },
  {
   "cell_type": "code",
   "execution_count": 19,
   "metadata": {},
   "outputs": [
    {
     "name": "stdout",
     "output_type": "stream",
     "text": [
      "<class 'pandas.core.frame.DataFrame'>\n",
      "RangeIndex: 176 entries, 0 to 175\n",
      "Data columns (total 5 columns):\n",
      "Pre- Monsoon          176 non-null int64\n",
      "South West Monsoon    176 non-null int64\n",
      "North East Monsoon    176 non-null int64\n",
      "Annual                176 non-null int64\n",
      "No. of. Rainy days    176 non-null int64\n",
      "dtypes: int64(5)\n",
      "memory usage: 7.0 KB\n"
     ]
    }
   ],
   "source": [
    "df.info()"
   ]
  },
  {
   "cell_type": "code",
   "execution_count": null,
   "metadata": {},
   "outputs": [],
   "source": []
  },
  {
   "cell_type": "code",
   "execution_count": 20,
   "metadata": {},
   "outputs": [
    {
     "data": {
      "text/html": [
       "<div>\n",
       "<style scoped>\n",
       "    .dataframe tbody tr th:only-of-type {\n",
       "        vertical-align: middle;\n",
       "    }\n",
       "\n",
       "    .dataframe tbody tr th {\n",
       "        vertical-align: top;\n",
       "    }\n",
       "\n",
       "    .dataframe thead th {\n",
       "        text-align: right;\n",
       "    }\n",
       "</style>\n",
       "<table border=\"1\" class=\"dataframe\">\n",
       "  <thead>\n",
       "    <tr style=\"text-align: right;\">\n",
       "      <th></th>\n",
       "      <th>Pre- Monsoon</th>\n",
       "      <th>South West Monsoon</th>\n",
       "      <th>North East Monsoon</th>\n",
       "      <th>Annual</th>\n",
       "      <th>No. of. Rainy days</th>\n",
       "    </tr>\n",
       "  </thead>\n",
       "  <tbody>\n",
       "    <tr>\n",
       "      <th>0</th>\n",
       "      <td>166</td>\n",
       "      <td>451</td>\n",
       "      <td>243</td>\n",
       "      <td>860</td>\n",
       "      <td>54</td>\n",
       "    </tr>\n",
       "    <tr>\n",
       "      <th>1</th>\n",
       "      <td>151</td>\n",
       "      <td>462</td>\n",
       "      <td>219</td>\n",
       "      <td>832</td>\n",
       "      <td>58</td>\n",
       "    </tr>\n",
       "    <tr>\n",
       "      <th>2</th>\n",
       "      <td>170</td>\n",
       "      <td>468</td>\n",
       "      <td>241</td>\n",
       "      <td>880</td>\n",
       "      <td>54</td>\n",
       "    </tr>\n",
       "    <tr>\n",
       "      <th>3</th>\n",
       "      <td>163</td>\n",
       "      <td>440</td>\n",
       "      <td>234</td>\n",
       "      <td>837</td>\n",
       "      <td>54</td>\n",
       "    </tr>\n",
       "    <tr>\n",
       "      <th>4</th>\n",
       "      <td>128</td>\n",
       "      <td>440</td>\n",
       "      <td>220</td>\n",
       "      <td>788</td>\n",
       "      <td>50</td>\n",
       "    </tr>\n",
       "    <tr>\n",
       "      <th>5</th>\n",
       "      <td>133</td>\n",
       "      <td>414</td>\n",
       "      <td>205</td>\n",
       "      <td>752</td>\n",
       "      <td>50</td>\n",
       "    </tr>\n",
       "    <tr>\n",
       "      <th>6</th>\n",
       "      <td>135</td>\n",
       "      <td>431</td>\n",
       "      <td>247</td>\n",
       "      <td>813</td>\n",
       "      <td>49</td>\n",
       "    </tr>\n",
       "    <tr>\n",
       "      <th>7</th>\n",
       "      <td>173</td>\n",
       "      <td>498</td>\n",
       "      <td>254</td>\n",
       "      <td>925</td>\n",
       "      <td>53</td>\n",
       "    </tr>\n",
       "    <tr>\n",
       "      <th>8</th>\n",
       "      <td>184</td>\n",
       "      <td>423</td>\n",
       "      <td>236</td>\n",
       "      <td>843</td>\n",
       "      <td>50</td>\n",
       "    </tr>\n",
       "    <tr>\n",
       "      <th>9</th>\n",
       "      <td>183</td>\n",
       "      <td>372</td>\n",
       "      <td>225</td>\n",
       "      <td>780</td>\n",
       "      <td>48</td>\n",
       "    </tr>\n",
       "    <tr>\n",
       "      <th>10</th>\n",
       "      <td>189</td>\n",
       "      <td>506</td>\n",
       "      <td>253</td>\n",
       "      <td>948</td>\n",
       "      <td>56</td>\n",
       "    </tr>\n",
       "    <tr>\n",
       "      <th>11</th>\n",
       "      <td>175</td>\n",
       "      <td>485</td>\n",
       "      <td>249</td>\n",
       "      <td>909</td>\n",
       "      <td>51</td>\n",
       "    </tr>\n",
       "    <tr>\n",
       "      <th>12</th>\n",
       "      <td>141</td>\n",
       "      <td>380</td>\n",
       "      <td>237</td>\n",
       "      <td>757</td>\n",
       "      <td>45</td>\n",
       "    </tr>\n",
       "    <tr>\n",
       "      <th>13</th>\n",
       "      <td>126</td>\n",
       "      <td>408</td>\n",
       "      <td>242</td>\n",
       "      <td>775</td>\n",
       "      <td>46</td>\n",
       "    </tr>\n",
       "    <tr>\n",
       "      <th>14</th>\n",
       "      <td>135</td>\n",
       "      <td>371</td>\n",
       "      <td>232</td>\n",
       "      <td>738</td>\n",
       "      <td>45</td>\n",
       "    </tr>\n",
       "    <tr>\n",
       "      <th>15</th>\n",
       "      <td>118</td>\n",
       "      <td>396</td>\n",
       "      <td>260</td>\n",
       "      <td>774</td>\n",
       "      <td>44</td>\n",
       "    </tr>\n",
       "    <tr>\n",
       "      <th>16</th>\n",
       "      <td>100</td>\n",
       "      <td>377</td>\n",
       "      <td>208</td>\n",
       "      <td>685</td>\n",
       "      <td>45</td>\n",
       "    </tr>\n",
       "    <tr>\n",
       "      <th>17</th>\n",
       "      <td>100</td>\n",
       "      <td>378</td>\n",
       "      <td>219</td>\n",
       "      <td>697</td>\n",
       "      <td>43</td>\n",
       "    </tr>\n",
       "    <tr>\n",
       "      <th>18</th>\n",
       "      <td>111</td>\n",
       "      <td>452</td>\n",
       "      <td>226</td>\n",
       "      <td>789</td>\n",
       "      <td>53</td>\n",
       "    </tr>\n",
       "    <tr>\n",
       "      <th>19</th>\n",
       "      <td>120</td>\n",
       "      <td>386</td>\n",
       "      <td>244</td>\n",
       "      <td>751</td>\n",
       "      <td>45</td>\n",
       "    </tr>\n",
       "    <tr>\n",
       "      <th>20</th>\n",
       "      <td>103</td>\n",
       "      <td>384</td>\n",
       "      <td>192</td>\n",
       "      <td>679</td>\n",
       "      <td>43</td>\n",
       "    </tr>\n",
       "    <tr>\n",
       "      <th>21</th>\n",
       "      <td>97</td>\n",
       "      <td>413</td>\n",
       "      <td>204</td>\n",
       "      <td>714</td>\n",
       "      <td>42</td>\n",
       "    </tr>\n",
       "    <tr>\n",
       "      <th>22</th>\n",
       "      <td>119</td>\n",
       "      <td>409</td>\n",
       "      <td>239</td>\n",
       "      <td>767</td>\n",
       "      <td>47</td>\n",
       "    </tr>\n",
       "    <tr>\n",
       "      <th>23</th>\n",
       "      <td>124</td>\n",
       "      <td>301</td>\n",
       "      <td>195</td>\n",
       "      <td>620</td>\n",
       "      <td>46</td>\n",
       "    </tr>\n",
       "    <tr>\n",
       "      <th>24</th>\n",
       "      <td>139</td>\n",
       "      <td>374</td>\n",
       "      <td>202</td>\n",
       "      <td>715</td>\n",
       "      <td>49</td>\n",
       "    </tr>\n",
       "    <tr>\n",
       "      <th>25</th>\n",
       "      <td>139</td>\n",
       "      <td>397</td>\n",
       "      <td>211</td>\n",
       "      <td>747</td>\n",
       "      <td>46</td>\n",
       "    </tr>\n",
       "    <tr>\n",
       "      <th>26</th>\n",
       "      <td>185</td>\n",
       "      <td>449</td>\n",
       "      <td>235</td>\n",
       "      <td>868</td>\n",
       "      <td>52</td>\n",
       "    </tr>\n",
       "    <tr>\n",
       "      <th>27</th>\n",
       "      <td>107</td>\n",
       "      <td>348</td>\n",
       "      <td>201</td>\n",
       "      <td>655</td>\n",
       "      <td>44</td>\n",
       "    </tr>\n",
       "    <tr>\n",
       "      <th>28</th>\n",
       "      <td>96</td>\n",
       "      <td>305</td>\n",
       "      <td>181</td>\n",
       "      <td>582</td>\n",
       "      <td>37</td>\n",
       "    </tr>\n",
       "    <tr>\n",
       "      <th>29</th>\n",
       "      <td>105</td>\n",
       "      <td>318</td>\n",
       "      <td>168</td>\n",
       "      <td>591</td>\n",
       "      <td>38</td>\n",
       "    </tr>\n",
       "    <tr>\n",
       "      <th>...</th>\n",
       "      <td>...</td>\n",
       "      <td>...</td>\n",
       "      <td>...</td>\n",
       "      <td>...</td>\n",
       "      <td>...</td>\n",
       "    </tr>\n",
       "    <tr>\n",
       "      <th>146</th>\n",
       "      <td>204</td>\n",
       "      <td>1882</td>\n",
       "      <td>260</td>\n",
       "      <td>2346</td>\n",
       "      <td>104</td>\n",
       "    </tr>\n",
       "    <tr>\n",
       "      <th>147</th>\n",
       "      <td>209</td>\n",
       "      <td>908</td>\n",
       "      <td>225</td>\n",
       "      <td>1341</td>\n",
       "      <td>68</td>\n",
       "    </tr>\n",
       "    <tr>\n",
       "      <th>148</th>\n",
       "      <td>130</td>\n",
       "      <td>306</td>\n",
       "      <td>205</td>\n",
       "      <td>641</td>\n",
       "      <td>45</td>\n",
       "    </tr>\n",
       "    <tr>\n",
       "      <th>149</th>\n",
       "      <td>217</td>\n",
       "      <td>2604</td>\n",
       "      <td>243</td>\n",
       "      <td>3064</td>\n",
       "      <td>111</td>\n",
       "    </tr>\n",
       "    <tr>\n",
       "      <th>150</th>\n",
       "      <td>231</td>\n",
       "      <td>2558</td>\n",
       "      <td>287</td>\n",
       "      <td>3077</td>\n",
       "      <td>115</td>\n",
       "    </tr>\n",
       "    <tr>\n",
       "      <th>151</th>\n",
       "      <td>174</td>\n",
       "      <td>1503</td>\n",
       "      <td>210</td>\n",
       "      <td>1886</td>\n",
       "      <td>94</td>\n",
       "    </tr>\n",
       "    <tr>\n",
       "      <th>152</th>\n",
       "      <td>209</td>\n",
       "      <td>3570</td>\n",
       "      <td>288</td>\n",
       "      <td>4067</td>\n",
       "      <td>116</td>\n",
       "    </tr>\n",
       "    <tr>\n",
       "      <th>153</th>\n",
       "      <td>123</td>\n",
       "      <td>496</td>\n",
       "      <td>187</td>\n",
       "      <td>806</td>\n",
       "      <td>68</td>\n",
       "    </tr>\n",
       "    <tr>\n",
       "      <th>154</th>\n",
       "      <td>331</td>\n",
       "      <td>3395</td>\n",
       "      <td>353</td>\n",
       "      <td>4079</td>\n",
       "      <td>125</td>\n",
       "    </tr>\n",
       "    <tr>\n",
       "      <th>155</th>\n",
       "      <td>213</td>\n",
       "      <td>1743</td>\n",
       "      <td>254</td>\n",
       "      <td>2211</td>\n",
       "      <td>105</td>\n",
       "    </tr>\n",
       "    <tr>\n",
       "      <th>156</th>\n",
       "      <td>253</td>\n",
       "      <td>1810</td>\n",
       "      <td>254</td>\n",
       "      <td>2317</td>\n",
       "      <td>113</td>\n",
       "    </tr>\n",
       "    <tr>\n",
       "      <th>157</th>\n",
       "      <td>239</td>\n",
       "      <td>3727</td>\n",
       "      <td>374</td>\n",
       "      <td>4339</td>\n",
       "      <td>126</td>\n",
       "    </tr>\n",
       "    <tr>\n",
       "      <th>158</th>\n",
       "      <td>229</td>\n",
       "      <td>3400</td>\n",
       "      <td>337</td>\n",
       "      <td>3967</td>\n",
       "      <td>120</td>\n",
       "    </tr>\n",
       "    <tr>\n",
       "      <th>159</th>\n",
       "      <td>233</td>\n",
       "      <td>3268</td>\n",
       "      <td>301</td>\n",
       "      <td>3802</td>\n",
       "      <td>116</td>\n",
       "    </tr>\n",
       "    <tr>\n",
       "      <th>160</th>\n",
       "      <td>228</td>\n",
       "      <td>3332</td>\n",
       "      <td>388</td>\n",
       "      <td>3948</td>\n",
       "      <td>124</td>\n",
       "    </tr>\n",
       "    <tr>\n",
       "      <th>161</th>\n",
       "      <td>229</td>\n",
       "      <td>3188</td>\n",
       "      <td>395</td>\n",
       "      <td>3811</td>\n",
       "      <td>129</td>\n",
       "    </tr>\n",
       "    <tr>\n",
       "      <th>162</th>\n",
       "      <td>232</td>\n",
       "      <td>4416</td>\n",
       "      <td>403</td>\n",
       "      <td>5051</td>\n",
       "      <td>129</td>\n",
       "    </tr>\n",
       "    <tr>\n",
       "      <th>163</th>\n",
       "      <td>176</td>\n",
       "      <td>4014</td>\n",
       "      <td>240</td>\n",
       "      <td>4430</td>\n",
       "      <td>114</td>\n",
       "    </tr>\n",
       "    <tr>\n",
       "      <th>164</th>\n",
       "      <td>212</td>\n",
       "      <td>3557</td>\n",
       "      <td>270</td>\n",
       "      <td>4039</td>\n",
       "      <td>116</td>\n",
       "    </tr>\n",
       "    <tr>\n",
       "      <th>165</th>\n",
       "      <td>155</td>\n",
       "      <td>3137</td>\n",
       "      <td>217</td>\n",
       "      <td>3509</td>\n",
       "      <td>107</td>\n",
       "    </tr>\n",
       "    <tr>\n",
       "      <th>166</th>\n",
       "      <td>184</td>\n",
       "      <td>3773</td>\n",
       "      <td>279</td>\n",
       "      <td>4235</td>\n",
       "      <td>113</td>\n",
       "    </tr>\n",
       "    <tr>\n",
       "      <th>167</th>\n",
       "      <td>142</td>\n",
       "      <td>1550</td>\n",
       "      <td>181</td>\n",
       "      <td>1873</td>\n",
       "      <td>82</td>\n",
       "    </tr>\n",
       "    <tr>\n",
       "      <th>168</th>\n",
       "      <td>159</td>\n",
       "      <td>3247</td>\n",
       "      <td>237</td>\n",
       "      <td>3644</td>\n",
       "      <td>110</td>\n",
       "    </tr>\n",
       "    <tr>\n",
       "      <th>169</th>\n",
       "      <td>155</td>\n",
       "      <td>2860</td>\n",
       "      <td>206</td>\n",
       "      <td>3220</td>\n",
       "      <td>103</td>\n",
       "    </tr>\n",
       "    <tr>\n",
       "      <th>170</th>\n",
       "      <td>156</td>\n",
       "      <td>3175</td>\n",
       "      <td>221</td>\n",
       "      <td>3552</td>\n",
       "      <td>110</td>\n",
       "    </tr>\n",
       "    <tr>\n",
       "      <th>171</th>\n",
       "      <td>138</td>\n",
       "      <td>1220</td>\n",
       "      <td>197</td>\n",
       "      <td>1555</td>\n",
       "      <td>85</td>\n",
       "    </tr>\n",
       "    <tr>\n",
       "      <th>172</th>\n",
       "      <td>113</td>\n",
       "      <td>2531</td>\n",
       "      <td>191</td>\n",
       "      <td>2835</td>\n",
       "      <td>101</td>\n",
       "    </tr>\n",
       "    <tr>\n",
       "      <th>173</th>\n",
       "      <td>110</td>\n",
       "      <td>2081</td>\n",
       "      <td>189</td>\n",
       "      <td>2379</td>\n",
       "      <td>98</td>\n",
       "    </tr>\n",
       "    <tr>\n",
       "      <th>174</th>\n",
       "      <td>120</td>\n",
       "      <td>2229</td>\n",
       "      <td>177</td>\n",
       "      <td>2525</td>\n",
       "      <td>94</td>\n",
       "    </tr>\n",
       "    <tr>\n",
       "      <th>175</th>\n",
       "      <td>109</td>\n",
       "      <td>2499</td>\n",
       "      <td>184</td>\n",
       "      <td>2792</td>\n",
       "      <td>98</td>\n",
       "    </tr>\n",
       "  </tbody>\n",
       "</table>\n",
       "<p>176 rows × 5 columns</p>\n",
       "</div>"
      ],
      "text/plain": [
       "     Pre- Monsoon  South West Monsoon  North East Monsoon  Annual  \\\n",
       "0             166                 451                 243     860   \n",
       "1             151                 462                 219     832   \n",
       "2             170                 468                 241     880   \n",
       "3             163                 440                 234     837   \n",
       "4             128                 440                 220     788   \n",
       "5             133                 414                 205     752   \n",
       "6             135                 431                 247     813   \n",
       "7             173                 498                 254     925   \n",
       "8             184                 423                 236     843   \n",
       "9             183                 372                 225     780   \n",
       "10            189                 506                 253     948   \n",
       "11            175                 485                 249     909   \n",
       "12            141                 380                 237     757   \n",
       "13            126                 408                 242     775   \n",
       "14            135                 371                 232     738   \n",
       "15            118                 396                 260     774   \n",
       "16            100                 377                 208     685   \n",
       "17            100                 378                 219     697   \n",
       "18            111                 452                 226     789   \n",
       "19            120                 386                 244     751   \n",
       "20            103                 384                 192     679   \n",
       "21             97                 413                 204     714   \n",
       "22            119                 409                 239     767   \n",
       "23            124                 301                 195     620   \n",
       "24            139                 374                 202     715   \n",
       "25            139                 397                 211     747   \n",
       "26            185                 449                 235     868   \n",
       "27            107                 348                 201     655   \n",
       "28             96                 305                 181     582   \n",
       "29            105                 318                 168     591   \n",
       "..            ...                 ...                 ...     ...   \n",
       "146           204                1882                 260    2346   \n",
       "147           209                 908                 225    1341   \n",
       "148           130                 306                 205     641   \n",
       "149           217                2604                 243    3064   \n",
       "150           231                2558                 287    3077   \n",
       "151           174                1503                 210    1886   \n",
       "152           209                3570                 288    4067   \n",
       "153           123                 496                 187     806   \n",
       "154           331                3395                 353    4079   \n",
       "155           213                1743                 254    2211   \n",
       "156           253                1810                 254    2317   \n",
       "157           239                3727                 374    4339   \n",
       "158           229                3400                 337    3967   \n",
       "159           233                3268                 301    3802   \n",
       "160           228                3332                 388    3948   \n",
       "161           229                3188                 395    3811   \n",
       "162           232                4416                 403    5051   \n",
       "163           176                4014                 240    4430   \n",
       "164           212                3557                 270    4039   \n",
       "165           155                3137                 217    3509   \n",
       "166           184                3773                 279    4235   \n",
       "167           142                1550                 181    1873   \n",
       "168           159                3247                 237    3644   \n",
       "169           155                2860                 206    3220   \n",
       "170           156                3175                 221    3552   \n",
       "171           138                1220                 197    1555   \n",
       "172           113                2531                 191    2835   \n",
       "173           110                2081                 189    2379   \n",
       "174           120                2229                 177    2525   \n",
       "175           109                2499                 184    2792   \n",
       "\n",
       "     No. of. Rainy days  \n",
       "0                    54  \n",
       "1                    58  \n",
       "2                    54  \n",
       "3                    54  \n",
       "4                    50  \n",
       "5                    50  \n",
       "6                    49  \n",
       "7                    53  \n",
       "8                    50  \n",
       "9                    48  \n",
       "10                   56  \n",
       "11                   51  \n",
       "12                   45  \n",
       "13                   46  \n",
       "14                   45  \n",
       "15                   44  \n",
       "16                   45  \n",
       "17                   43  \n",
       "18                   53  \n",
       "19                   45  \n",
       "20                   43  \n",
       "21                   42  \n",
       "22                   47  \n",
       "23                   46  \n",
       "24                   49  \n",
       "25                   46  \n",
       "26                   52  \n",
       "27                   44  \n",
       "28                   37  \n",
       "29                   38  \n",
       "..                  ...  \n",
       "146                 104  \n",
       "147                  68  \n",
       "148                  45  \n",
       "149                 111  \n",
       "150                 115  \n",
       "151                  94  \n",
       "152                 116  \n",
       "153                  68  \n",
       "154                 125  \n",
       "155                 105  \n",
       "156                 113  \n",
       "157                 126  \n",
       "158                 120  \n",
       "159                 116  \n",
       "160                 124  \n",
       "161                 129  \n",
       "162                 129  \n",
       "163                 114  \n",
       "164                 116  \n",
       "165                 107  \n",
       "166                 113  \n",
       "167                  82  \n",
       "168                 110  \n",
       "169                 103  \n",
       "170                 110  \n",
       "171                  85  \n",
       "172                 101  \n",
       "173                  98  \n",
       "174                  94  \n",
       "175                  98  \n",
       "\n",
       "[176 rows x 5 columns]"
      ]
     },
     "execution_count": 20,
     "metadata": {},
     "output_type": "execute_result"
    }
   ],
   "source": [
    "df"
   ]
  },
  {
   "cell_type": "code",
   "execution_count": 21,
   "metadata": {},
   "outputs": [
    {
     "data": {
      "text/plain": [
       "<matplotlib.axes._subplots.AxesSubplot at 0xa0d1332278>"
      ]
     },
     "execution_count": 21,
     "metadata": {},
     "output_type": "execute_result"
    },
    {
     "data": {
      "image/png": "[encoded data removed]",
      "text/plain": [
       "<Figure size 432x288 with 2 Axes>"
      ]
     },
     "metadata": {
      "needs_background": "light"
     },
     "output_type": "display_data"
    }
   ],
   "source": [
    "sns.heatmap(df.corr(),annot=True)"
   ]
  },
  {
   "cell_type": "code",
   "execution_count": 22,
   "metadata": {},
   "outputs": [],
   "source": [
    "df.columns=[\"pre_monsoon\",\"south_west_monsoon\",\"north_east_monsoon\",\"annual\",\"no.of_rainy_days\"]"
   ]
  },
  {
   "cell_type": "code",
   "execution_count": 23,
   "metadata": {},
   "outputs": [],
   "source": [
    "y=df['annual']"
   ]
  },
  {
   "cell_type": "code",
   "execution_count": 24,
   "metadata": {},
   "outputs": [],
   "source": [
    "X=df[[\"pre_monsoon\",\"south_west_monsoon\",\"north_east_monsoon\",\"no.of_rainy_days\"]]"
   ]
  },
  {
   "cell_type": "code",
   "execution_count": 25,
   "metadata": {},
   "outputs": [],
   "source": [
    "from sklearn.model_selection import train_test_split"
   ]
  },
  {
   "cell_type": "code",
   "execution_count": 26,
   "metadata": {},
   "outputs": [],
   "source": [
    "X_train, X_test, y_train, y_test = train_test_split(X, y, test_size=0.33, random_state=42)"
   ]
  },
  {
   "cell_type": "code",
   "execution_count": 27,
   "metadata": {},
   "outputs": [],
   "source": [
    "from sklearn.linear_model import LinearRegression"
   ]
  },
  {
   "cell_type": "code",
   "execution_count": 28,
   "metadata": {},
   "outputs": [],
   "source": [
    "lm=LinearRegression()"
   ]
  },
  {
   "cell_type": "code",
   "execution_count": 29,
   "metadata": {},
   "outputs": [
    {
     "data": {
      "text/plain": [
       "LinearRegression(copy_X=True, fit_intercept=True, n_jobs=None,\n",
       "         normalize=False)"
      ]
     },
     "execution_count": 29,
     "metadata": {},
     "output_type": "execute_result"
    }
   ],
   "source": [
    "lm"
   ]
  },
  {
   "cell_type": "code",
   "execution_count": 30,
   "metadata": {},
   "outputs": [
    {
     "data": {
      "text/plain": [
       "LinearRegression(copy_X=True, fit_intercept=True, n_jobs=None,\n",
       "         normalize=False)"
      ]
     },
     "execution_count": 30,
     "metadata": {},
     "output_type": "execute_result"
    }
   ],
   "source": [
    "lm.fit(X_train,y_train)"
   ]
  },
  {
   "cell_type": "code",
   "execution_count": 31,
   "metadata": {},
   "outputs": [
    {
     "name": "stdout",
     "output_type": "stream",
     "text": [
      "coefficient [ 1.00009938  1.0000811   1.00131641 -0.00414241]\n"
     ]
    }
   ],
   "source": [
    "print(\"coefficient\",lm.coef_)"
   ]
  },
  {
   "cell_type": "code",
   "execution_count": 32,
   "metadata": {},
   "outputs": [],
   "source": [
    "prediction=lm.predict(X_test)"
   ]
  },
  {
   "cell_type": "code",
   "execution_count": 33,
   "metadata": {},
   "outputs": [
    {
     "data": {
      "text/plain": [
       "array([ 749.88385397,  768.88894847, 1188.77003306,  688.85109803,\n",
       "        575.76606702,  684.83374583,  700.78892119, 2834.75537603,\n",
       "        516.75537857,  859.76388106,  714.81291032, 3947.99582346,\n",
       "        721.79095336,  665.7646631 ,  773.90967112,  660.78676612,\n",
       "        632.7845684 ,  797.72544338,  779.85154063,  656.75310455,\n",
       "        788.83147764,  539.7465466 ,  651.85761741, 1872.74423949,\n",
       "       3220.79769362, 3075.83767395,  631.79520839,  629.77678424,\n",
       "        960.7192582 ,  751.86484071,  590.8057984 ,  903.73538528,\n",
       "        840.79053607,  899.86853402,  757.87623953,  645.80620583,\n",
       "       2316.74404004,  979.75727676,  570.77502041, 4340.00223715,\n",
       "        539.8101642 ,  548.76847225,  870.71599288,  699.74269298,\n",
       "       1271.82265788,  878.85424243, 1959.71977076,  749.73346832,\n",
       "        805.7227627 ,  736.83054188,  630.75964305,  721.84405762,\n",
       "        868.85457861, 4066.91473603,  724.73244174,  619.78113487,\n",
       "        673.80157108,  624.76008117,  847.71338358])"
      ]
     },
     "execution_count": 33,
     "metadata": {},
     "output_type": "execute_result"
    }
   ],
   "source": [
    "prediction"
   ]
  },
  {
   "cell_type": "code",
   "execution_count": 48,
   "metadata": {},
   "outputs": [
    {
     "data": {
      "text/plain": [
       "19      751\n",
       "45      769\n",
       "139    1189\n",
       "30      689\n",
       "67      576\n",
       "16      685\n",
       "119     701\n",
       "172    2835\n",
       "109     516\n",
       "140     860\n",
       "24      715\n",
       "160    3948\n",
       "41      722\n",
       "118     666\n",
       "15      774\n",
       "111     660\n",
       "113     633\n",
       "82      798\n",
       "9       780\n",
       "114     657\n",
       "18      789\n",
       "66      540\n",
       "60      652\n",
       "167    1873\n",
       "169    3220\n",
       "150    3077\n",
       "117     632\n",
       "65      629\n",
       "90      961\n",
       "55      751\n",
       "29      591\n",
       "127     904\n",
       "144     841\n",
       "31      900\n",
       "12      757\n",
       "42      646\n",
       "156    2317\n",
       "136     980\n",
       "98      572\n",
       "157    4339\n",
       "38      539\n",
       "108     549\n",
       "85      871\n",
       "68      700\n",
       "142    1273\n",
       "2       880\n",
       "100    1960\n",
       "122     751\n",
       "153     806\n",
       "51      737\n",
       "76      631\n",
       "56      722\n",
       "26      868\n",
       "152    4067\n",
       "128     725\n",
       "104     620\n",
       "78      674\n",
       "36      625\n",
       "93      848\n",
       "Name: annual, dtype: int64"
      ]
     },
     "execution_count": 48,
     "metadata": {},
     "output_type": "execute_result"
    }
   ],
   "source": [
    "y_test"
   ]
  },
  {
   "cell_type": "code",
   "execution_count": 34,
   "metadata": {},
   "outputs": [
    {
     "data": {
      "text/plain": [
       "numpy.ndarray"
      ]
     },
     "execution_count": 34,
     "metadata": {},
     "output_type": "execute_result"
    }
   ],
   "source": [
    "type(prediction)"
   ]
  },
  {
   "cell_type": "code",
   "execution_count": 35,
   "metadata": {},
   "outputs": [
    {
     "data": {
      "text/plain": [
       "pandas.core.series.Series"
      ]
     },
     "execution_count": 35,
     "metadata": {},
     "output_type": "execute_result"
    }
   ],
   "source": [
    "type(y_test)"
   ]
  },
  {
   "cell_type": "code",
   "execution_count": 36,
   "metadata": {},
   "outputs": [
    {
     "data": {
      "text/plain": [
       "array([  749.88385397,  1518.77280244,  2707.5428355 ,  3396.39393353,\n",
       "        3972.16000055,  4656.99374638,  5357.78266758,  8192.5380436 ,\n",
       "        8709.29342217,  9569.05730323, 10283.87021355, 14231.86603702,\n",
       "       14953.65699038, 15619.42165348, 16393.3313246 , 17054.11809071,\n",
       "       17686.90265911, 18484.6281025 , 19264.47964313, 19921.23274768,\n",
       "       20710.06422532, 21249.81077192, 21901.66838933, 23774.41262882,\n",
       "       26995.21032243, 30071.04799639, 30702.84320478, 31332.61998902,\n",
       "       32293.33924722, 33045.20408793, 33636.00988633, 34539.74527161,\n",
       "       35380.53580768, 36280.4043417 , 37038.28058123, 37684.08678706,\n",
       "       40000.8308271 , 40980.58810386, 41551.36312427, 45891.36536143,\n",
       "       46431.17552562, 46979.94399788, 47850.65999075, 48550.40268373,\n",
       "       49822.22534161, 50701.07958404, 52660.7993548 , 53410.53282311,\n",
       "       54216.25558581, 54953.08612769, 55583.84577074, 56305.68982836,\n",
       "       57174.54440697, 61241.459143  , 61966.19158474, 62585.97271961,\n",
       "       63259.77429069, 63884.53437186, 64732.24775544])"
      ]
     },
     "execution_count": 36,
     "metadata": {},
     "output_type": "execute_result"
    }
   ],
   "source": [
    "prediction.cumsum()"
   ]
  },
  {
   "cell_type": "code",
   "execution_count": 37,
   "metadata": {},
   "outputs": [
    {
     "data": {
      "text/plain": [
       "(59,)"
      ]
     },
     "execution_count": 37,
     "metadata": {},
     "output_type": "execute_result"
    }
   ],
   "source": [
    "prediction.shape"
   ]
  },
  {
   "cell_type": "code",
   "execution_count": 38,
   "metadata": {},
   "outputs": [
    {
     "data": {
      "text/plain": [
       "(59,)"
      ]
     },
     "execution_count": 38,
     "metadata": {},
     "output_type": "execute_result"
    }
   ],
   "source": [
    "y_test.shape"
   ]
  },
  {
   "cell_type": "code",
   "execution_count": 39,
   "metadata": {},
   "outputs": [
    {
     "name": "stdout",
     "output_type": "stream",
     "text": [
      "MAE: 0.40341711953310433\n",
      "MSE: 0.28501664760475676\n",
      "RMSE 0.533869504284293\n"
     ]
    }
   ],
   "source": [
    "from sklearn import metrics\n",
    "\n",
    "print(\"MAE:\", metrics.mean_absolute_error(y_test,prediction))\n",
    "print(\"MSE:\",metrics.mean_squared_error(y_test,prediction))\n",
    "print(\"RMSE\",np.sqrt(metrics.mean_squared_error(y_test,prediction)))"
   ]
  },
  {
   "cell_type": "code",
   "execution_count": 57,
   "metadata": {},
   "outputs": [
    {
     "data": {
      "image/png": "[encoded data removed]",
      "text/plain": [
       "<Figure size 432x288 with 1 Axes>"
      ]
     },
     "metadata": {
      "needs_background": "light"
     },
     "output_type": "display_data"
    }
   ],
   "source": [
    "plt.hist((y_test-prediction),bins=60)\n",
    "plt.show()"
   ]
  },
  {
   "cell_type": "code",
   "execution_count": 58,
   "metadata": {},
   "outputs": [
    {
     "data": {
      "text/plain": [
       "0.9999996579220796"
      ]
     },
     "execution_count": 58,
     "metadata": {},
     "output_type": "execute_result"
    }
   ],
   "source": [
    "metrics.r2_score(y_test,prediction)"
   ]
  },
  {
   "cell_type": "code",
   "execution_count": 59,
   "metadata": {},
   "outputs": [
    {
     "data": {
      "text/plain": [
       "array([ 1.00009938,  1.0000811 ,  1.00131641, -0.00414241])"
      ]
     },
     "execution_count": 59,
     "metadata": {},
     "output_type": "execute_result"
    }
   ],
   "source": [
    "lm.coef_"
   ]
  },
  {
   "cell_type": "code",
   "execution_count": 40,
   "metadata": {},
   "outputs": [
    {
     "data": {
      "text/plain": [
       "Index(['pre_monsoon', 'south_west_monsoon', 'north_east_monsoon', 'annual',\n",
       "       'no.of_rainy_days'],\n",
       "      dtype='object')"
      ]
     },
     "execution_count": 40,
     "metadata": {},
     "output_type": "execute_result"
    }
   ],
   "source": [
    "df.columns"
   ]
  },
  {
   "cell_type": "code",
   "execution_count": 111,
   "metadata": {},
   "outputs": [
    {
     "data": {
      "text/plain": [
       "array([[1.        , 0.52881024],\n",
       "       [0.52881024, 1.        ]])"
      ]
     },
     "execution_count": 111,
     "metadata": {},
     "output_type": "execute_result"
    }
   ],
   "source": [
    "np.corrcoef(df['pre_monsoon'],df[\"annual\"])"
   ]
  },
  {
   "cell_type": "code",
   "execution_count": 113,
   "metadata": {},
   "outputs": [
    {
     "data": {
      "text/plain": [
       "array([[1.        , 0.99643985],\n",
       "       [0.99643985, 1.        ]])"
      ]
     },
     "execution_count": 113,
     "metadata": {},
     "output_type": "execute_result"
    }
   ],
   "source": [
    "np.corrcoef(df['south_west_monsoon'],df[\"annual\"])"
   ]
  },
  {
   "cell_type": "code",
   "execution_count": 114,
   "metadata": {},
   "outputs": [
    {
     "data": {
      "text/plain": [
       "array([[1.        , 0.63504963],\n",
       "       [0.63504963, 1.        ]])"
      ]
     },
     "execution_count": 114,
     "metadata": {},
     "output_type": "execute_result"
    }
   ],
   "source": [
    "np.corrcoef(df[\"north_east_monsoon\"],df[\"annual\"])"
   ]
  },
  {
   "cell_type": "code",
   "execution_count": 55,
   "metadata": {},
   "outputs": [],
   "source": [
    "X1_train, X1_test, y1_train, y1_1test = train_test_split(X1, y1, test_size=0.33, random_state=42)"
   ]
  },
  {
   "cell_type": "code",
   "execution_count": 73,
   "metadata": {},
   "outputs": [],
   "source": [
    "X1_train=np.array([X1_train],copy=True)"
   ]
  },
  {
   "cell_type": "code",
   "execution_count": 79,
   "metadata": {},
   "outputs": [
    {
     "data": {
      "text/plain": [
       "53"
      ]
     },
     "execution_count": 79,
     "metadata": {},
     "output_type": "execute_result"
    }
   ],
   "source": []
  },
  {
   "cell_type": "code",
   "execution_count": 93,
   "metadata": {},
   "outputs": [
    {
     "data": {
      "text/plain": [
       "0    [[47, 53, 51, 42, 107, 51, 49, 44, 47, 50, 46,...\n",
       "dtype: object"
      ]
     },
     "execution_count": 93,
     "metadata": {},
     "output_type": "execute_result"
    }
   ],
   "source": [
    "X1_train.reshape(117,)\n",
    "pd.Series([X1_train])"
   ]
  },
  {
   "cell_type": "code",
   "execution_count": 95,
   "metadata": {},
   "outputs": [
    {
     "data": {
      "text/plain": [
       "LinearRegression(copy_X=True, fit_intercept=True, n_jobs=None,\n",
       "         normalize=False)"
      ]
     },
     "execution_count": 95,
     "metadata": {},
     "output_type": "execute_result"
    }
   ],
   "source": [
    "lm.fit(X1_train.T,y1_train)"
   ]
  },
  {
   "cell_type": "code",
   "execution_count": 96,
   "metadata": {},
   "outputs": [
    {
     "data": {
      "text/plain": [
       "array([39.96898026])"
      ]
     },
     "execution_count": 96,
     "metadata": {},
     "output_type": "execute_result"
    }
   ],
   "source": [
    "lm.coef_"
   ]
  },
  {
   "cell_type": "code",
   "execution_count": 101,
   "metadata": {},
   "outputs": [],
   "source": [
    "X1_test=np.array([X1_test],copy=True)\n"
   ]
  },
  {
   "cell_type": "code",
   "execution_count": 102,
   "metadata": {},
   "outputs": [
    {
     "data": {
      "text/plain": [
       "(1, 59)"
      ]
     },
     "execution_count": 102,
     "metadata": {},
     "output_type": "execute_result"
    }
   ],
   "source": [
    "X1_test.shape"
   ]
  },
  {
   "cell_type": "code",
   "execution_count": 105,
   "metadata": {},
   "outputs": [
    {
     "data": {
      "text/plain": [
       "0    [[45, 47, 73, 45, 41, 45, 47, 101, 37, 65, 49,...\n",
       "dtype: object"
      ]
     },
     "execution_count": 105,
     "metadata": {},
     "output_type": "execute_result"
    }
   ],
   "source": [
    "X1_test.reshape(59,)\n",
    "pd.Series([X1_test])"
   ]
  },
  {
   "cell_type": "code",
   "execution_count": 106,
   "metadata": {},
   "outputs": [],
   "source": [
    "prediction2=lm.predict(X1_test.T)"
   ]
  },
  {
   "cell_type": "code",
   "execution_count": 107,
   "metadata": {},
   "outputs": [
    {
     "data": {
      "text/plain": [
       "array([ 653.84818157,  733.78614209, 1772.97962883,  653.84818157,\n",
       "        493.97226053,  653.84818157,  733.78614209, 2892.11107609,\n",
       "        334.09633949, 1453.22778675,  813.7241026 , 3811.39762205,\n",
       "        733.78614209,  613.87920131,  613.87920131,  454.00328027,\n",
       "        454.00328027,  733.78614209,  773.75512235,  414.03430001,\n",
       "        973.60002364,  334.09633949,  573.91022105, 2132.70045116,\n",
       "       2972.04903661, 3451.67679972,  414.03430001,  573.91022105,\n",
       "       1053.53798416,  733.78614209,  374.06531975, 1293.35186572,\n",
       "       1373.28982623,  973.60002364,  653.84818157,  653.84818157,\n",
       "       3371.7388392 , 1533.16574727,  334.09633949, 3891.33558257,\n",
       "        254.15837897,  374.06531975,  893.66206312,  973.60002364,\n",
       "       1573.13472753, 1013.5690039 , 2372.51433272, 1213.4139052 ,\n",
       "       1573.13472753,  813.7241026 ,  414.03430001,  813.7241026 ,\n",
       "        933.63104338, 3491.64577998, 1133.47594468,  454.00328027,\n",
       "        414.03430001,  973.60002364,  853.69308286])"
      ]
     },
     "execution_count": 107,
     "metadata": {},
     "output_type": "execute_result"
    }
   ],
   "source": [
    "prediction2"
   ]
  },
  {
   "cell_type": "code",
   "execution_count": 109,
   "metadata": {},
   "outputs": [
    {
     "data": {
      "text/plain": [
       "19      751\n",
       "45      769\n",
       "139    1189\n",
       "30      689\n",
       "67      576\n",
       "16      685\n",
       "119     701\n",
       "172    2835\n",
       "109     516\n",
       "140     860\n",
       "24      715\n",
       "160    3948\n",
       "41      722\n",
       "118     666\n",
       "15      774\n",
       "111     660\n",
       "113     633\n",
       "82      798\n",
       "9       780\n",
       "114     657\n",
       "18      789\n",
       "66      540\n",
       "60      652\n",
       "167    1873\n",
       "169    3220\n",
       "150    3077\n",
       "117     632\n",
       "65      629\n",
       "90      961\n",
       "55      751\n",
       "29      591\n",
       "127     904\n",
       "144     841\n",
       "31      900\n",
       "12      757\n",
       "42      646\n",
       "156    2317\n",
       "136     980\n",
       "98      572\n",
       "157    4339\n",
       "38      539\n",
       "108     549\n",
       "85      871\n",
       "68      700\n",
       "142    1273\n",
       "2       880\n",
       "100    1960\n",
       "122     751\n",
       "153     806\n",
       "51      737\n",
       "76      631\n",
       "56      722\n",
       "26      868\n",
       "152    4067\n",
       "128     725\n",
       "104     620\n",
       "78      674\n",
       "36      625\n",
       "93      848\n",
       "Name: annual, dtype: int64"
      ]
     },
     "execution_count": 109,
     "metadata": {},
     "output_type": "execute_result"
    }
   ],
   "source": [
    "y1_1test"
   ]
  },
  {
   "cell_type": "code",
   "execution_count": null,
   "metadata": {},
   "outputs": [],
   "source": []
  }
 ],
 "metadata": {
  "kernelspec": {
   "display_name": "Python 3",
   "language": "python",
   "name": "python3"
  },
  "language_info": {
   "codemirror_mode": {
    "name": "ipython",
    "version": 3
   },
   "file_extension": ".py",
   "mimetype": "text/x-python",
   "name": "python",
   "nbconvert_exporter": "python",
   "pygments_lexer": "ipython3",
   "version": "3.6.5"
  }
 },
 "nbformat": 4,
 "nbformat_minor": 2
}
