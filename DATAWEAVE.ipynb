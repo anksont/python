{
 "cells": [
  {
   "cell_type": "code",
   "execution_count": 1,
   "metadata": {},
   "outputs": [],
   "source": [
    "import os\n",
    "import json \n",
    "import gzip"
   ]
  },
  {
   "cell_type": "code",
   "execution_count": 2,
   "metadata": {},
   "outputs": [
    {
     "ename": "FileNotFoundError",
     "evalue": "[WinError 3] The system cannot find the path specified: 'C:\\\\Users\\\\ankit\\\\Desktop\\\\python datascience\\\\dataweave'",
     "output_type": "error",
     "traceback": [
      "\u001b[1;31m---------------------------------------------------------------------------\u001b[0m",
      "\u001b[1;31mFileNotFoundError\u001b[0m                         Traceback (most recent call last)",
      "\u001b[1;32m<ipython-input-2-4f6494286fff>\u001b[0m in \u001b[0;36m<module>\u001b[1;34m\u001b[0m\n\u001b[0;32m      1\u001b[0m \u001b[0mos\u001b[0m\u001b[1;33m.\u001b[0m\u001b[0mgetcwd\u001b[0m\u001b[1;33m(\u001b[0m\u001b[1;33m)\u001b[0m\u001b[1;33m\u001b[0m\u001b[1;33m\u001b[0m\u001b[0m\n\u001b[1;32m----> 2\u001b[1;33m \u001b[0mos\u001b[0m\u001b[1;33m.\u001b[0m\u001b[0mchdir\u001b[0m\u001b[1;33m(\u001b[0m\u001b[1;34m\"C:\\\\Users\\\\ankit\\\\Desktop\\\\python datascience\\\\dataweave\"\u001b[0m\u001b[1;33m)\u001b[0m\u001b[1;33m\u001b[0m\u001b[1;33m\u001b[0m\u001b[0m\n\u001b[0m",
      "\u001b[1;31mFileNotFoundError\u001b[0m: [WinError 3] The system cannot find the path specified: 'C:\\\\Users\\\\ankit\\\\Desktop\\\\python datascience\\\\dataweave'"
     ]
    }
   ],
   "source": [
    "os.getcwd()\n",
    "os.chdir(\"C:\\\\Users\\\\ankit\\\\Desktop\\\\python datascience\\\\dataweave\")"
   ]
  },
  {
   "cell_type": "code",
   "execution_count": 3,
   "metadata": {},
   "outputs": [
    {
     "ename": "FileNotFoundError",
     "evalue": "[Errno 2] No such file or directory: 'y.json.gz'",
     "output_type": "error",
     "traceback": [
      "\u001b[1;31m---------------------------------------------------------------------------\u001b[0m",
      "\u001b[1;31mFileNotFoundError\u001b[0m                         Traceback (most recent call last)",
      "\u001b[1;32m<ipython-input-3-f4ee3914cd19>\u001b[0m in \u001b[0;36m<module>\u001b[1;34m\u001b[0m\n\u001b[1;32m----> 1\u001b[1;33m \u001b[1;32mwith\u001b[0m \u001b[0mgzip\u001b[0m\u001b[1;33m.\u001b[0m\u001b[0mGzipFile\u001b[0m\u001b[1;33m(\u001b[0m\u001b[1;34m'y.json.gz'\u001b[0m\u001b[1;33m,\u001b[0m \u001b[1;34m'r'\u001b[0m\u001b[1;33m)\u001b[0m \u001b[1;32mas\u001b[0m \u001b[0mf\u001b[0m\u001b[1;33m:\u001b[0m\u001b[1;33m\u001b[0m\u001b[1;33m\u001b[0m\u001b[0m\n\u001b[0m\u001b[0;32m      2\u001b[0m     \u001b[0my_json\u001b[0m\u001b[1;33m=\u001b[0m\u001b[0mf\u001b[0m\u001b[1;33m.\u001b[0m\u001b[0mread\u001b[0m\u001b[1;33m(\u001b[0m\u001b[1;33m)\u001b[0m\u001b[1;33m.\u001b[0m\u001b[0mdecode\u001b[0m\u001b[1;33m(\u001b[0m\u001b[1;34m\"utf-8\"\u001b[0m\u001b[1;33m)\u001b[0m\u001b[1;33m.\u001b[0m\u001b[0msplit\u001b[0m\u001b[1;33m(\u001b[0m\u001b[1;34m\"\\n\"\u001b[0m\u001b[1;33m)\u001b[0m\u001b[1;33m\u001b[0m\u001b[1;33m\u001b[0m\u001b[0m\n",
      "\u001b[1;32mC:\\ProgramData\\Anaconda3\\lib\\gzip.py\u001b[0m in \u001b[0;36m__init__\u001b[1;34m(self, filename, mode, compresslevel, fileobj, mtime)\u001b[0m\n\u001b[0;32m    161\u001b[0m             \u001b[0mmode\u001b[0m \u001b[1;33m+=\u001b[0m \u001b[1;34m'b'\u001b[0m\u001b[1;33m\u001b[0m\u001b[1;33m\u001b[0m\u001b[0m\n\u001b[0;32m    162\u001b[0m         \u001b[1;32mif\u001b[0m \u001b[0mfileobj\u001b[0m \u001b[1;32mis\u001b[0m \u001b[1;32mNone\u001b[0m\u001b[1;33m:\u001b[0m\u001b[1;33m\u001b[0m\u001b[1;33m\u001b[0m\u001b[0m\n\u001b[1;32m--> 163\u001b[1;33m             \u001b[0mfileobj\u001b[0m \u001b[1;33m=\u001b[0m \u001b[0mself\u001b[0m\u001b[1;33m.\u001b[0m\u001b[0mmyfileobj\u001b[0m \u001b[1;33m=\u001b[0m \u001b[0mbuiltins\u001b[0m\u001b[1;33m.\u001b[0m\u001b[0mopen\u001b[0m\u001b[1;33m(\u001b[0m\u001b[0mfilename\u001b[0m\u001b[1;33m,\u001b[0m \u001b[0mmode\u001b[0m \u001b[1;32mor\u001b[0m \u001b[1;34m'rb'\u001b[0m\u001b[1;33m)\u001b[0m\u001b[1;33m\u001b[0m\u001b[1;33m\u001b[0m\u001b[0m\n\u001b[0m\u001b[0;32m    164\u001b[0m         \u001b[1;32mif\u001b[0m \u001b[0mfilename\u001b[0m \u001b[1;32mis\u001b[0m \u001b[1;32mNone\u001b[0m\u001b[1;33m:\u001b[0m\u001b[1;33m\u001b[0m\u001b[1;33m\u001b[0m\u001b[0m\n\u001b[0;32m    165\u001b[0m             \u001b[0mfilename\u001b[0m \u001b[1;33m=\u001b[0m \u001b[0mgetattr\u001b[0m\u001b[1;33m(\u001b[0m\u001b[0mfileobj\u001b[0m\u001b[1;33m,\u001b[0m \u001b[1;34m'name'\u001b[0m\u001b[1;33m,\u001b[0m \u001b[1;34m''\u001b[0m\u001b[1;33m)\u001b[0m\u001b[1;33m\u001b[0m\u001b[1;33m\u001b[0m\u001b[0m\n",
      "\u001b[1;31mFileNotFoundError\u001b[0m: [Errno 2] No such file or directory: 'y.json.gz'"
     ]
    }
   ],
   "source": [
    "with gzip.GzipFile('y.json.gz', 'r') as f:\n",
    "    y_json=f.read().decode(\"utf-8\").split(\"\\n\")"
   ]
  },
  {
   "cell_type": "code",
   "execution_count": 66,
   "metadata": {},
   "outputs": [],
   "source": [
    "\n",
    "with gzip.GzipFile('t.json.gz', 'r') as f:\n",
    "    t_json=f.read().decode(\"utf-8\").split(\"\\n\")\n",
    "    #j=f.read()"
   ]
  },
  {
   "cell_type": "code",
   "execution_count": null,
   "metadata": {},
   "outputs": [],
   "source": []
  },
  {
   "cell_type": "code",
   "execution_count": 67,
   "metadata": {},
   "outputs": [],
   "source": [
    "y_json.remove('')\n",
    "t_json.remove('')"
   ]
  },
  {
   "cell_type": "code",
   "execution_count": 68,
   "metadata": {},
   "outputs": [
    {
     "name": "stdout",
     "output_type": "stream",
     "text": [
      "141699\n"
     ]
    },
    {
     "data": {
      "text/plain": [
       "142291"
      ]
     },
     "execution_count": 68,
     "metadata": {},
     "output_type": "execute_result"
    }
   ],
   "source": [
    "print(len(y_json))\n",
    "len(t_json)"
   ]
  },
  {
   "cell_type": "markdown",
   "metadata": {},
   "source": [
    "# Data exploration"
   ]
  },
  {
   "cell_type": "code",
   "execution_count": 69,
   "metadata": {},
   "outputs": [],
   "source": [
    "data_today=[]\n",
    "for i in range(len(t_json)):\n",
    "    data_today.append(json.loads(t_json[i]))"
   ]
  },
  {
   "cell_type": "code",
   "execution_count": 70,
   "metadata": {},
   "outputs": [],
   "source": [
    "data_yes=[]\n",
    "for i in range(len(y_json)):\n",
    "    data_yes.append(json.loads(y_json[i]))\n"
   ]
  },
  {
   "cell_type": "code",
   "execution_count": 71,
   "metadata": {},
   "outputs": [
    {
     "name": "stdout",
     "output_type": "stream",
     "text": [
      "dict_items([('category', 'Household'), ('crawl_date', '20180726'), ('subcategory', 'Trash Bags & Liners'), ('title', 'Seventh Generation 13 Gallon Extra Strong Flap Tie White Tall Kitchen Trash Bags - 30 ct'), ('mrp', '0'), ('urlh', '1ef0f41ebcee030a35440405f2f8b0165c719c89'), ('http_status', '200'), ('pack_size', '30 ct'), ('available_price', '5.99')])\n"
     ]
    }
   ],
   "source": [
    "items=data_yes[0].items()\n",
    "print(items)"
   ]
  },
  {
   "cell_type": "markdown",
   "metadata": {},
   "source": [
    "# 1- No. of \"urlh\" overlapping in data sets"
   ]
  },
  {
   "cell_type": "code",
   "execution_count": 72,
   "metadata": {},
   "outputs": [],
   "source": [
    "data_yes=sorted(data_yes,key=lambda h: h[\"urlh\"])\n",
    "data_today=sorted(data_today,key=lambda h: h[\"urlh\"])"
   ]
  },
  {
   "cell_type": "code",
   "execution_count": 73,
   "metadata": {},
   "outputs": [],
   "source": [
    "data_index_yes=[data_yes[i] for i in range(len(data_yes)) if data_yes[i][\"http_status\"]==\"200\"]\n",
    "data_index_yes=sorted(data_index_yes,key=lambda l:l[\"urlh\"])"
   ]
  },
  {
   "cell_type": "code",
   "execution_count": 74,
   "metadata": {},
   "outputs": [],
   "source": [
    "data_index_not_overlapping_yes=[]\n",
    "z=\"\"\n",
    "for i in range(0,len(data_index_yes)):\n",
    "    if data_index_yes[i][\"urlh\"]==z:\n",
    "        z=data_index_yes[i][\"urlh\"]\n",
    "        continue\n",
    "    else:\n",
    "        data_index_not_overlapping_yes.append(i)"
   ]
  },
  {
   "cell_type": "code",
   "execution_count": 75,
   "metadata": {},
   "outputs": [],
   "source": [
    "data_index_today=[data_today[i] for i in range(len(data_today)) if data_today[i][\"http_status\"]==\"200\" ]\n",
    "data_index_today=sorted(data_index_today,key=lambda j:j[\"urlh\"])"
   ]
  },
  {
   "cell_type": "code",
   "execution_count": 76,
   "metadata": {},
   "outputs": [],
   "source": [
    "data_index_not_overlapping_today=[]\n",
    "z=\"\"\n",
    "for i in range(0,len(data_index_today)):\n",
    "    if data_index_today[i][\"urlh\"]==z:\n",
    "        z=data_index_today[i][\"urlh\"]\n",
    "        continue\n",
    "    else:\n",
    "        data_index_not_overlapping_today.append(i)"
   ]
  },
  {
   "cell_type": "code",
   "execution_count": 77,
   "metadata": {},
   "outputs": [],
   "source": [
    "p=[data_today[i][\"urlh\"] for i in data_index_not_overlapping_today ]\n",
    "d=[data_yes[i][\"urlh\"] for i in data_index_not_overlapping_yes ]"
   ]
  },
  {
   "cell_type": "code",
   "execution_count": 78,
   "metadata": {},
   "outputs": [],
   "source": [
    "g=set(g)\n",
    "d=set(d)\n",
    "p=g&d"
   ]
  },
  {
   "cell_type": "code",
   "execution_count": 79,
   "metadata": {},
   "outputs": [],
   "source": [
    "data_y=[data_yes[j] for j in range(len(data_yes)) if data_yes[j][\"urlh\"] in p ]\n"
   ]
  },
  {
   "cell_type": "code",
   "execution_count": 80,
   "metadata": {},
   "outputs": [],
   "source": [
    "data_t=[data_today[j] for j in range(len(data_today)) if data_today[j][\"urlh\"] in p]"
   ]
  },
  {
   "cell_type": "code",
   "execution_count": 81,
   "metadata": {},
   "outputs": [
    {
     "data": {
      "text/plain": [
       "140411"
      ]
     },
     "execution_count": 81,
     "metadata": {},
     "output_type": "execute_result"
    }
   ],
   "source": [
    "len(data_y)"
   ]
  },
  {
   "cell_type": "code",
   "execution_count": 82,
   "metadata": {},
   "outputs": [
    {
     "data": {
      "text/plain": [
       "140412"
      ]
     },
     "execution_count": 82,
     "metadata": {},
     "output_type": "execute_result"
    }
   ],
   "source": [
    "len(data_t)"
   ]
  },
  {
   "cell_type": "code",
   "execution_count": 83,
   "metadata": {},
   "outputs": [],
   "source": [
    "data_y=sorted(data_y,key=lambda Z: Z[\"urlh\"])"
   ]
  },
  {
   "cell_type": "code",
   "execution_count": 84,
   "metadata": {},
   "outputs": [],
   "source": [
    "data_t=sorted(data_t,key=lambda Z:Z[\"urlh\"])"
   ]
  },
  {
   "cell_type": "code",
   "execution_count": 85,
   "metadata": {},
   "outputs": [
    {
     "data": {
      "text/plain": [
       "range(0, 140412)"
      ]
     },
     "execution_count": 85,
     "metadata": {},
     "output_type": "execute_result"
    }
   ],
   "source": [
    "range(len(data_t))"
   ]
  },
  {
   "cell_type": "markdown",
   "metadata": {},
   "source": [
    "z=[]\n",
    "final_t=[]\n",
    "for i in range(len(data_y)):\n",
    "    if data_y[i][\"urlh\"] not in z:\n",
    "        z.append(data_y[i][\"urlh\"])\n",
    "        final_t.append(data_y[i])"
   ]
  },
  {
   "cell_type": "code",
   "execution_count": 86,
   "metadata": {},
   "outputs": [],
   "source": [
    "final_yes=[]\n",
    "z=\"\"\n",
    "for i in range(len(data_y)):\n",
    "    if data_y[i][\"urlh\"]!=z:\n",
    "        z=data_y[i][\"urlh\"]\n",
    "        final_yes.append(data_y[i])"
   ]
  },
  {
   "cell_type": "code",
   "execution_count": 87,
   "metadata": {},
   "outputs": [
    {
     "data": {
      "text/plain": [
       "129671"
      ]
     },
     "execution_count": 87,
     "metadata": {},
     "output_type": "execute_result"
    }
   ],
   "source": [
    "len(final_yes)"
   ]
  },
  {
   "cell_type": "code",
   "execution_count": 88,
   "metadata": {},
   "outputs": [],
   "source": [
    "final_today=[]\n",
    "h=\"\"\n",
    "for i in range(len(data_t)):\n",
    "    if data_t[i][\"urlh\"]!=z:\n",
    "        z=data_t[i][\"urlh\"]\n",
    "        final_today.append(data_t[i])"
   ]
  },
  {
   "cell_type": "code",
   "execution_count": 89,
   "metadata": {},
   "outputs": [
    {
     "data": {
      "text/plain": [
       "129671"
      ]
     },
     "execution_count": 89,
     "metadata": {},
     "output_type": "execute_result"
    }
   ],
   "source": [
    "len(final_today)"
   ]
  },
  {
   "cell_type": "code",
   "execution_count": 90,
   "metadata": {},
   "outputs": [
    {
     "data": {
      "text/plain": [
       "0"
      ]
     },
     "execution_count": 90,
     "metadata": {},
     "output_type": "execute_result"
    }
   ],
   "source": [
    "p=[i for i in range(len(final_today)) if final_today[i][\"urlh\"]!=final_yes[i][\"urlh\"]]\n",
    "len(p)"
   ]
  },
  {
   "cell_type": "code",
   "execution_count": 91,
   "metadata": {},
   "outputs": [],
   "source": [
    "def replacing_mrp(d,arg):\n",
    "    for i in range(len(d)):\n",
    "        if d[i][arg]==\"0\":\n",
    "            d[i][arg]=\"NA\"\n",
    "    "
   ]
  },
  {
   "cell_type": "code",
   "execution_count": 92,
   "metadata": {},
   "outputs": [],
   "source": [
    "replacing_mrp(final_today,\"mrp\")"
   ]
  },
  {
   "cell_type": "code",
   "execution_count": 93,
   "metadata": {},
   "outputs": [],
   "source": [
    "replacing_mrp(final_yes,\"mrp\")"
   ]
  },
  {
   "cell_type": "code",
   "execution_count": 94,
   "metadata": {},
   "outputs": [],
   "source": [
    "not_overlapping=len(t_json)-len(y_json)\n",
    "no_of_overlapping_urlh =len(t_json)-not_overlapping -len(final_today)"
   ]
  },
  {
   "cell_type": "code",
   "execution_count": 95,
   "metadata": {},
   "outputs": [
    {
     "name": "stdout",
     "output_type": "stream",
     "text": [
      "12028\n"
     ]
    }
   ],
   "source": [
    "print(no_of_overlapping_urlh)"
   ]
  },
  {
   "cell_type": "markdown",
   "metadata": {},
   "source": [
    "# 2- Available price difference of overlapping \"urlh\" in data set\n"
   ]
  },
  {
   "cell_type": "code",
   "execution_count": 96,
   "metadata": {},
   "outputs": [],
   "source": [
    "available_price_difference=[]\n",
    "for i in range(len(final_yes)):\n",
    "    v=\"\"\n",
    "    try:\n",
    "        v=float(final_today[i]['available_price'])-float(final_yes[i]['available_price'])\n",
    "        v=str(round(v,2))\n",
    "    except:\n",
    "        v=str(\"NA\")\n",
    "    available_price_difference.append(\"{} tday-(t-1)day : {}\".format(final_yes[i][\"title\"],v))"
   ]
  },
  {
   "cell_type": "code",
   "execution_count": 97,
   "metadata": {},
   "outputs": [],
   "source": [
    "with open (\"Available Price Difference Of overlapping-urlh On Product Title.txt\",\"w\",encoding=\"utf-8\") as u:\n",
    "    for i in available_price_difference:\n",
    "        u.write(i+\"\\n\")"
   ]
  },
  {
   "cell_type": "markdown",
   "metadata": {},
   "source": [
    "# 3-No. of Unique categories in both files"
   ]
  },
  {
   "cell_type": "code",
   "execution_count": 98,
   "metadata": {},
   "outputs": [],
   "source": [
    "unique_categories=[]\n",
    "def No_of_unique_categories(obj):\n",
    "    h=\"\"\n",
    "    for i in range(len(obj)):\n",
    "        if obj[i][\"category\"]!=h and obj[i][\"category\"] not in unique_categories :\n",
    "            h=obj[i][\"category\"]\n",
    "            unique_categories.append(obj[i][\"category\"])"
   ]
  },
  {
   "cell_type": "code",
   "execution_count": 99,
   "metadata": {},
   "outputs": [],
   "source": [
    "No_of_unique_categories(data_today)\n",
    "No_of_unique_categories(data_yes)\n",
    "unique_categories.sort()"
   ]
  },
  {
   "cell_type": "code",
   "execution_count": 100,
   "metadata": {},
   "outputs": [
    {
     "name": "stdout",
     "output_type": "stream",
     "text": [
      "Total_no_of_unique_categories_in_both_file:50\n"
     ]
    }
   ],
   "source": [
    "Total_no_of_unique_categories_in_both_file=len(unique_categories)\n",
    "print(\"Total_no_of_unique_categories_in_both_file:{}\".format(Total_no_of_unique_categories_in_both_file))\n",
    "with open (\"Total No. Of Unique Categories In Both File and List of Categories.txt\",\"w\",encoding=\"utf-8\") as u:\n",
    "        u.write(\"Total_no_of_unique_categories_in_both_file:{}\".format(Total_no_of_unique_categories_in_both_file)+\"\\n\"+\"category names are mention below :\\n\")\n",
    "        for i in unique_categories:\n",
    "            u.write(i+\"\\n\")"
   ]
  },
  {
   "cell_type": "markdown",
   "metadata": {},
   "source": [
    "# 4-List of catergories NOT overlappping"
   ]
  },
  {
   "cell_type": "code",
   "execution_count": 101,
   "metadata": {},
   "outputs": [],
   "source": [
    "#list_cat_in_final_today=[final_today[i][\"urlh\"] for i in range(len(final_today))]\n",
    "#list_cat_in_final_today\n",
    "data_today=sorted(data_today,key=lambda k:k[\"urlh\"])\n",
    "data_yes=sorted(data_yes,key=lambda k:k[\"urlh\"])"
   ]
  },
  {
   "cell_type": "code",
   "execution_count": 102,
   "metadata": {},
   "outputs": [
    {
     "data": {
      "text/plain": [
       "141699"
      ]
     },
     "execution_count": 102,
     "metadata": {},
     "output_type": "execute_result"
    }
   ],
   "source": [
    "len(data_today)\n",
    "len(data_yes)"
   ]
  },
  {
   "cell_type": "code",
   "execution_count": null,
   "metadata": {},
   "outputs": [],
   "source": []
  },
  {
   "cell_type": "code",
   "execution_count": 103,
   "metadata": {},
   "outputs": [],
   "source": [
    "final_yes_cat=[]\n",
    "z=\"\"\n",
    "for i in range(0,len(data_yes)):\n",
    "    if data_yes[i][\"urlh\"]!=z:\n",
    "        z=data_yes[i][\"urlh\"]\n",
    "        continue\n",
    "    else:\n",
    "        final_yes_cat.append(i)\n",
    "\n"
   ]
  },
  {
   "cell_type": "code",
   "execution_count": 104,
   "metadata": {},
   "outputs": [],
   "source": [
    "\n",
    "cat_overlapping_yes=[data_yes[i][\"category\"] for i in final_yes_cat]     \n",
    "cat_overlapping_yes.sort()\n"
   ]
  },
  {
   "cell_type": "code",
   "execution_count": 105,
   "metadata": {},
   "outputs": [],
   "source": [
    "final_cat_yes=[]\n",
    "z=\"\"\n",
    "for i in cat_overlapping_yes:\n",
    "    if i!=z:\n",
    "        z=i\n",
    "        final_cat_yes.append(i)\n",
    "\n",
    "categories_not_overlapping_yes=[]\n",
    "c=0\n",
    "for i in unique_categories:\n",
    "    if i != final_cat_yes[c]:\n",
    "        categories_not_overlapping_yes.append(i)\n",
    "    else:\n",
    "        c+=1"
   ]
  },
  {
   "cell_type": "code",
   "execution_count": 106,
   "metadata": {},
   "outputs": [
    {
     "data": {
      "text/plain": [
       "['Coolers & Malt Beverages',\n",
       " 'Food',\n",
       " 'Gift Baskets & Sets',\n",
       " 'Glassware & Accessories',\n",
       " 'Ready to Drink',\n",
       " 'Sake & Plum Wine',\n",
       " 'Scotch']"
      ]
     },
     "execution_count": 106,
     "metadata": {},
     "output_type": "execute_result"
    }
   ],
   "source": [
    "categories_not_overlapping_yes"
   ]
  },
  {
   "cell_type": "code",
   "execution_count": 107,
   "metadata": {},
   "outputs": [],
   "source": [
    "final_today_cat=[]\n",
    "z=\"\"\n",
    "for i in range(0,len(data_today)):\n",
    "    if data_today[i][\"urlh\"]!=z:\n",
    "        z=data_today[i][\"urlh\"]\n",
    "        continue\n",
    "    else:\n",
    "        final_today_cat.append(i)\n"
   ]
  },
  {
   "cell_type": "code",
   "execution_count": 108,
   "metadata": {},
   "outputs": [],
   "source": [
    "\n",
    "cat_overlapping_today=[data_today[i][\"category\"] for i in final_today_cat]     \n",
    "cat_overlapping_today.sort()\n"
   ]
  },
  {
   "cell_type": "code",
   "execution_count": 109,
   "metadata": {},
   "outputs": [],
   "source": [
    "final_cat_today=[]\n",
    "z=\"\"\n",
    "for i in cat_overlapping_today:\n",
    "    if i!=z:\n",
    "        z=i\n",
    "        final_cat_today.append(i)\n",
    "\n",
    "categories_not_overlapping_today=[]\n",
    "c=0\n",
    "for i in unique_categories:\n",
    "    if i != final_cat_today[c]:\n",
    "        categories_not_overlapping_today.append(i)\n",
    "    else:\n",
    "        c+=1"
   ]
  },
  {
   "cell_type": "code",
   "execution_count": 110,
   "metadata": {},
   "outputs": [
    {
     "data": {
      "text/plain": [
       "['Coolers & Malt Beverages',\n",
       " 'Food',\n",
       " 'Gift Baskets & Sets',\n",
       " 'Glassware & Accessories',\n",
       " 'Ready to Drink',\n",
       " 'Sake & Plum Wine',\n",
       " 'Scotch']"
      ]
     },
     "execution_count": 110,
     "metadata": {},
     "output_type": "execute_result"
    }
   ],
   "source": [
    "categories_not_overlapping_today"
   ]
  },
  {
   "cell_type": "code",
   "execution_count": 111,
   "metadata": {},
   "outputs": [],
   "source": [
    "cat=[i for i in categories_not_overlapping_today if i not in categories_not_overlapping_yes]\n",
    "categories_not_overlapping_today.extend(cat)"
   ]
  },
  {
   "cell_type": "markdown",
   "metadata": {},
   "source": []
  },
  {
   "cell_type": "code",
   "execution_count": 112,
   "metadata": {},
   "outputs": [
    {
     "name": "stdout",
     "output_type": "stream",
     "text": [
      "List of catergies NOT overlapping are :['Coolers & Malt Beverages', 'Food', 'Gift Baskets & Sets', 'Glassware & Accessories', 'Ready to Drink', 'Sake & Plum Wine', 'Scotch']\n"
     ]
    }
   ],
   "source": [
    "with open (\"List Of Catergies NOT Overlapping In Both File.txt\",\"w\",encoding=\"utf-8\") as b:\n",
    "    b.write(\"List Of Catergies NOT Overlapping: \\n {} \".format(categories_not_overlapping_today))\n",
    "print(\"List of catergies NOT overlapping are :{}\".format(categories_not_overlapping_today))"
   ]
  },
  {
   "cell_type": "markdown",
   "metadata": {},
   "source": [
    "# 5- Generating the stats with count for all taxonomies "
   ]
  },
  {
   "cell_type": "code",
   "execution_count": 113,
   "metadata": {},
   "outputs": [],
   "source": [
    "#sorting \n",
    "data_today=sorted(data_today,key=lambda k:k[\"subcategory\"])\n",
    "data_yes=sorted(data_yes,key=lambda k:k[\"subcategory\"])\n",
    "data_today=sorted(data_today,key=lambda k:k[\"category\"])\n",
    "data_yes=sorted(data_yes,key=lambda k:k[\"category\"])"
   ]
  },
  {
   "cell_type": "markdown",
   "metadata": {},
   "source": [
    "g=\"\"\n",
    "k=\"\"\n",
    "count=1\n",
    "l=0\n",
    "for i in range(len(data_today)):\n",
    "    if data_today[i][\"subcategory\"]==g and data_today[i][\"category\"]==k:\n",
    "        count+=1\n",
    "        continue\n",
    "    else:\n",
    "        g=data_today[i][\"subcategory\"]\n",
    "        k=data_today[i][\"category\"]\n",
    "    print(\"{} > {} : {}\".format(k,g,count))\n",
    "    count=1\n"
   ]
  },
  {
   "cell_type": "code",
   "execution_count": 114,
   "metadata": {},
   "outputs": [],
   "source": [
    "def taxonomies(obj,n,g=\"\",k=\"\", count=1):\n",
    "    for i in range(len(obj)):\n",
    "        if obj[i][\"subcategory\"]==g and obj[i][\"category\"]==k:\n",
    "            count+=1\n",
    "            continue\n",
    "        else:\n",
    "            g=obj[i][\"subcategory\"]\n",
    "            k=obj[i][\"category\"]\n",
    "        n.append(\"{} > {} : {}\".format(k,g,count))\n",
    "        count=1\n",
    "    return n"
   ]
  },
  {
   "cell_type": "code",
   "execution_count": 115,
   "metadata": {},
   "outputs": [],
   "source": [
    "today=[]\n",
    "today_cat_subcat=taxonomies(data_today,today)"
   ]
  },
  {
   "cell_type": "code",
   "execution_count": 116,
   "metadata": {},
   "outputs": [],
   "source": [
    "yesterday=[]\n",
    "yesterday_cat_subcat=taxonomies(data_yes,yesterday)"
   ]
  },
  {
   "cell_type": "markdown",
   "metadata": {},
   "source": [
    "# Taxonomy of t.json file\n"
   ]
  },
  {
   "cell_type": "code",
   "execution_count": 117,
   "metadata": {},
   "outputs": [],
   "source": [
    "with open (\"TEXONOMY OF t.json FILE.txt\",\"w\",encoding=\"utf-8\") as r:\n",
    "    for i in today_cat_subcat:\n",
    "        r.write(i+\"\\n\")"
   ]
  },
  {
   "cell_type": "markdown",
   "metadata": {},
   "source": [
    "# Taxonomy of y.json file"
   ]
  },
  {
   "cell_type": "code",
   "execution_count": 118,
   "metadata": {},
   "outputs": [],
   "source": [
    "with open (\"TEXONOMY OF y.json FILE.txt\",\"w\",encoding=\"utf-8\") as r:\n",
    "    for i in yesterday_cat_subcat:\n",
    "        r.write(i+\"\\n\")"
   ]
  },
  {
   "cell_type": "markdown",
   "metadata": {},
   "source": [
    "# 6- Generating a new file where mrp is normalized."
   ]
  },
  {
   "cell_type": "code",
   "execution_count": 119,
   "metadata": {},
   "outputs": [],
   "source": [
    "def replacing_mrp(d,arg):\n",
    "    for i in range(len(d)):\n",
    "        if d[i][arg]==\"0\" or type(d[i][arg])!= float :\n",
    "            d[i][arg]=\"NA\""
   ]
  },
  {
   "cell_type": "code",
   "execution_count": 120,
   "metadata": {},
   "outputs": [],
   "source": [
    "replacing_mrp(data_today,\"mrp\")\n",
    "replacing_mrp(data_yes,\"mrp\")"
   ]
  },
  {
   "cell_type": "code",
   "execution_count": 121,
   "metadata": {},
   "outputs": [],
   "source": [
    "t=str(data_today)\n",
    "with open(\"Normalised mrp file for t.json.txt\",\"w\",encoding=\"utf-8\") as f:\n",
    "        f.write(t)"
   ]
  },
  {
   "cell_type": "code",
   "execution_count": 122,
   "metadata": {},
   "outputs": [],
   "source": [
    "t=str(data_yes)\n",
    "with open(\"Normalised mrp file for y.json.txt\",\"w\",encoding=\"utf-8\") as f:\n",
    "    f.write(t)"
   ]
  },
  {
   "cell_type": "code",
   "execution_count": null,
   "metadata": {},
   "outputs": [],
   "source": []
  }
 ],
 "metadata": {
  "kernelspec": {
   "display_name": "Python 3",
   "language": "python",
   "name": "python3"
  },
  "language_info": {
   "codemirror_mode": {
    "name": "ipython",
    "version": 3
   },
   "file_extension": ".py",
   "mimetype": "text/x-python",
   "name": "python",
   "nbconvert_exporter": "python",
   "pygments_lexer": "ipython3",
   "version": "3.7.1"
  }
 },
 "nbformat": 4,
 "nbformat_minor": 2
}
